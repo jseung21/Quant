{
 "cells": [
  {
   "cell_type": "markdown",
   "metadata": {},
   "source": [
    "### 처리\n",
    "1. 파라미터 설정\n",
    "1. 매수 후보 종목 선별\n",
    "1. 포트폴리오 조회\n",
    "2. 매도 종목 검색 \n",
    "4. 매수 종목 선정\n",
    "1. (날짜 다음날 전환)\n",
    "1. 매도처리\n",
    "5. 매수처리\n"
   ]
  },
  {
   "cell_type": "code",
   "execution_count": 1,
   "metadata": {},
   "outputs": [],
   "source": [
    "import pandas as pd\n",
    "import numpy as np\n",
    "import matplotlib.pyplot as plt\n",
    "import glob\n",
    "import os\n",
    "import sqlite3\n",
    "import csv\n",
    "\n",
    "%matplotlib notebook"
   ]
  },
  {
   "cell_type": "code",
   "execution_count": 2,
   "metadata": {},
   "outputs": [],
   "source": [
    "# 전일영업일자 계산\n",
    "def getBeforeWorkingDate(today):\n",
    "    sql = \"SELECT date FROM holiday_calendar WHERE date < {} AND holiday = 0\".format(today)\n",
    "    return pd.read_sql(sql, con, index_col=None).max()['date']"
   ]
  },
  {
   "cell_type": "code",
   "execution_count": 3,
   "metadata": {},
   "outputs": [],
   "source": [
    "# *****************************\n",
    "# 파라미터 설정\n",
    "# *****************************\n",
    "# 시작날짜\n",
    "START_DAY = \"20090312\"\n",
    "# 종료날짜\n",
    "END_DAY = \"20100106\"\n",
    "# 선별거래종목수\n",
    "CANDIDATE_STOCK_CNT = 10\n",
    "# 매수/매도 거래량\n",
    "AMOUNT_BUY = 10\n",
    "AMOUNT_SELL = 10\n",
    "# 거래 주기 일자\n",
    "CYCLE_DAY = 1\n",
    "\n"
   ]
  },
  {
   "cell_type": "code",
   "execution_count": 4,
   "metadata": {},
   "outputs": [
    {
     "data": {
      "text/plain": [
       "sqlite3.Connection"
      ]
     },
     "execution_count": 4,
     "metadata": {},
     "output_type": "execute_result"
    }
   ],
   "source": [
    "# db file\n",
    "dbDir = 'C:/Users/jseung21/Documents/CybosPlus/sqlite3'\n",
    "# DBCP\n",
    "con = sqlite3.connect(dbDir+\"/MondayLab.db\")\n",
    "sqlite3.Connection\n",
    "# cursor = con.cursor()"
   ]
  },
  {
   "cell_type": "code",
   "execution_count": null,
   "metadata": {},
   "outputs": [],
   "source": [
    "# 날짜 설정\n",
    "today = START_DAY\n",
    "beforeDay = getBeforeWorkingDate(today)\n",
    "print(\"today:[{}], beforDay:[{}]\".format(today,beforeDay))"
   ]
  },
  {
   "cell_type": "code",
   "execution_count": 20,
   "metadata": {
    "scrolled": true
   },
   "outputs": [
    {
     "ename": "KeyboardInterrupt",
     "evalue": "",
     "output_type": "error",
     "traceback": [
      "\u001b[1;31m---------------------------------------------------------------------------\u001b[0m",
      "\u001b[1;31mKeyboardInterrupt\u001b[0m                         Traceback (most recent call last)",
      "\u001b[1;32m<ipython-input-20-134f06ba387d>\u001b[0m in \u001b[0;36m<module>\u001b[1;34m\u001b[0m\n\u001b[0;32m     24\u001b[0m \u001b[1;33m\u001b[0m\u001b[0m\n\u001b[0;32m     25\u001b[0m     \u001b[1;32mif\u001b[0m \u001b[0mlen\u001b[0m\u001b[1;33m(\u001b[0m\u001b[0mresult1\u001b[0m\u001b[1;33m)\u001b[0m \u001b[1;33m!=\u001b[0m \u001b[1;36m0\u001b[0m\u001b[1;33m:\u001b[0m\u001b[1;33m\u001b[0m\u001b[1;33m\u001b[0m\u001b[0m\n\u001b[1;32m---> 26\u001b[1;33m         \u001b[0mresult2\u001b[0m \u001b[1;33m=\u001b[0m \u001b[0mpd\u001b[0m\u001b[1;33m.\u001b[0m\u001b[0mread_sql\u001b[0m\u001b[1;33m(\u001b[0m\u001b[0msqlBeforeDay\u001b[0m\u001b[1;33m,\u001b[0m \u001b[0mcon\u001b[0m\u001b[1;33m,\u001b[0m \u001b[0mindex_col\u001b[0m\u001b[1;33m=\u001b[0m\u001b[1;32mNone\u001b[0m\u001b[1;33m)\u001b[0m\u001b[1;33m[\u001b[0m\u001b[1;34m'stockCode'\u001b[0m\u001b[1;33m]\u001b[0m\u001b[1;33m[\u001b[0m\u001b[1;36m0\u001b[0m\u001b[1;33m]\u001b[0m\u001b[1;33m\u001b[0m\u001b[1;33m\u001b[0m\u001b[0m\n\u001b[0m\u001b[0;32m     27\u001b[0m         \u001b[0mcandidate\u001b[0m\u001b[1;33m.\u001b[0m\u001b[0mappend\u001b[0m\u001b[1;33m(\u001b[0m\u001b[0mresult2\u001b[0m\u001b[1;33m)\u001b[0m\u001b[1;33m\u001b[0m\u001b[1;33m\u001b[0m\u001b[0m\n\u001b[0;32m     28\u001b[0m \u001b[1;33m\u001b[0m\u001b[0m\n",
      "\u001b[1;32m~\\Anaconda3\\lib\\site-packages\\pandas\\io\\sql.py\u001b[0m in \u001b[0;36mread_sql\u001b[1;34m(sql, con, index_col, coerce_float, params, parse_dates, columns, chunksize)\u001b[0m\n\u001b[0;32m    379\u001b[0m             \u001b[0msql\u001b[0m\u001b[1;33m,\u001b[0m \u001b[0mindex_col\u001b[0m\u001b[1;33m=\u001b[0m\u001b[0mindex_col\u001b[0m\u001b[1;33m,\u001b[0m \u001b[0mparams\u001b[0m\u001b[1;33m=\u001b[0m\u001b[0mparams\u001b[0m\u001b[1;33m,\u001b[0m\u001b[1;33m\u001b[0m\u001b[1;33m\u001b[0m\u001b[0m\n\u001b[0;32m    380\u001b[0m             \u001b[0mcoerce_float\u001b[0m\u001b[1;33m=\u001b[0m\u001b[0mcoerce_float\u001b[0m\u001b[1;33m,\u001b[0m \u001b[0mparse_dates\u001b[0m\u001b[1;33m=\u001b[0m\u001b[0mparse_dates\u001b[0m\u001b[1;33m,\u001b[0m\u001b[1;33m\u001b[0m\u001b[1;33m\u001b[0m\u001b[0m\n\u001b[1;32m--> 381\u001b[1;33m             chunksize=chunksize)\n\u001b[0m\u001b[0;32m    382\u001b[0m \u001b[1;33m\u001b[0m\u001b[0m\n\u001b[0;32m    383\u001b[0m     \u001b[1;32mtry\u001b[0m\u001b[1;33m:\u001b[0m\u001b[1;33m\u001b[0m\u001b[1;33m\u001b[0m\u001b[0m\n",
      "\u001b[1;32m~\\Anaconda3\\lib\\site-packages\\pandas\\io\\sql.py\u001b[0m in \u001b[0;36mread_query\u001b[1;34m(self, sql, index_col, coerce_float, params, parse_dates, chunksize)\u001b[0m\n\u001b[0;32m   1420\u001b[0m                                         parse_dates=parse_dates)\n\u001b[0;32m   1421\u001b[0m         \u001b[1;32melse\u001b[0m\u001b[1;33m:\u001b[0m\u001b[1;33m\u001b[0m\u001b[1;33m\u001b[0m\u001b[0m\n\u001b[1;32m-> 1422\u001b[1;33m             \u001b[0mdata\u001b[0m \u001b[1;33m=\u001b[0m \u001b[0mself\u001b[0m\u001b[1;33m.\u001b[0m\u001b[0m_fetchall_as_list\u001b[0m\u001b[1;33m(\u001b[0m\u001b[0mcursor\u001b[0m\u001b[1;33m)\u001b[0m\u001b[1;33m\u001b[0m\u001b[1;33m\u001b[0m\u001b[0m\n\u001b[0m\u001b[0;32m   1423\u001b[0m             \u001b[0mcursor\u001b[0m\u001b[1;33m.\u001b[0m\u001b[0mclose\u001b[0m\u001b[1;33m(\u001b[0m\u001b[1;33m)\u001b[0m\u001b[1;33m\u001b[0m\u001b[1;33m\u001b[0m\u001b[0m\n\u001b[0;32m   1424\u001b[0m \u001b[1;33m\u001b[0m\u001b[0m\n",
      "\u001b[1;32m~\\Anaconda3\\lib\\site-packages\\pandas\\io\\sql.py\u001b[0m in \u001b[0;36m_fetchall_as_list\u001b[1;34m(self, cur)\u001b[0m\n\u001b[0;32m   1429\u001b[0m \u001b[1;33m\u001b[0m\u001b[0m\n\u001b[0;32m   1430\u001b[0m     \u001b[1;32mdef\u001b[0m \u001b[0m_fetchall_as_list\u001b[0m\u001b[1;33m(\u001b[0m\u001b[0mself\u001b[0m\u001b[1;33m,\u001b[0m \u001b[0mcur\u001b[0m\u001b[1;33m)\u001b[0m\u001b[1;33m:\u001b[0m\u001b[1;33m\u001b[0m\u001b[1;33m\u001b[0m\u001b[0m\n\u001b[1;32m-> 1431\u001b[1;33m         \u001b[0mresult\u001b[0m \u001b[1;33m=\u001b[0m \u001b[0mcur\u001b[0m\u001b[1;33m.\u001b[0m\u001b[0mfetchall\u001b[0m\u001b[1;33m(\u001b[0m\u001b[1;33m)\u001b[0m\u001b[1;33m\u001b[0m\u001b[1;33m\u001b[0m\u001b[0m\n\u001b[0m\u001b[0;32m   1432\u001b[0m         \u001b[1;32mif\u001b[0m \u001b[1;32mnot\u001b[0m \u001b[0misinstance\u001b[0m\u001b[1;33m(\u001b[0m\u001b[0mresult\u001b[0m\u001b[1;33m,\u001b[0m \u001b[0mlist\u001b[0m\u001b[1;33m)\u001b[0m\u001b[1;33m:\u001b[0m\u001b[1;33m\u001b[0m\u001b[1;33m\u001b[0m\u001b[0m\n\u001b[0;32m   1433\u001b[0m             \u001b[0mresult\u001b[0m \u001b[1;33m=\u001b[0m \u001b[0mlist\u001b[0m\u001b[1;33m(\u001b[0m\u001b[0mresult\u001b[0m\u001b[1;33m)\u001b[0m\u001b[1;33m\u001b[0m\u001b[1;33m\u001b[0m\u001b[0m\n",
      "\u001b[1;31mKeyboardInterrupt\u001b[0m: "
     ]
    }
   ],
   "source": [
    "# *****************************\n",
    "# 매수 후보 종목 선별\n",
    "# *****************************\n",
    "\n",
    "# kospi 200 종목 검색\n",
    "dfKospi200 = pd.read_sql(\"SELECT * FROM kospi200\", con, index_col=None)\n",
    "    \n",
    "# kospi200 종목중에서 매수 후보 주식 선별\n",
    "candidate = []\n",
    "for stockCode in dfKospi200['stockCode']:\n",
    "    # \n",
    "    sqlTdoay = \"SELECT stockCode FROM origin_trade WHERE 1=1 \\\n",
    "                AND stockCode = '{}' \\\n",
    "                AND date = {} \\\n",
    "                AND days5MovAvr > days20MovAvr\" \\\n",
    "                .format(stockCode,today)\n",
    "    sqlBeforeDay = \"SELECT stockCode FROM origin_trade WHERE 1=1 \\\n",
    "                AND stockCode = '{}' \\\n",
    "                AND date = {} \\\n",
    "                AND days5MovAvr <= days20MovAvr\" \\\n",
    "                .format(stockCode,beforeDay)\n",
    "    \n",
    "    result1 = pd.read_sql(sqlBeforeDay, con, index_col=None)\n",
    "    \n",
    "    if len(result1) != 0:\n",
    "        result2 = pd.read_sql(sqlBeforeDay, con, index_col=None)['stockCode'][0]\n",
    "        candidate.append(result2)\n",
    "    \n",
    "print(\"candidate : [{}]\".format(len(candidate)))\n",
    "\n",
    "# 매수 후보 종목 csv 파일생성\n",
    "fileName = \"candidate_{}.csv\".format(today)\n",
    "with open(fileName, 'w') as csvFile:\n",
    "    writer = csv.writer(csvFile)\n",
    "    writer.writerow(candidate)\n",
    "\n",
    "csvFile.close()"
   ]
  },
  {
   "cell_type": "code",
   "execution_count": 15,
   "metadata": {},
   "outputs": [
    {
     "name": "stdout",
     "output_type": "stream",
     "text": [
      "portfolio 건수 : [0] \n"
     ]
    }
   ],
   "source": [
    "# *****************************\n",
    "# 포트폴리오 조회\n",
    "# *****************************\n",
    "sqlPortfolio = \"SELECT stockCode FROM Portfolio WHERE 1=1 \\\n",
    "                AND trading = 1\"\n",
    "portfolio = pd.read_sql(sqlPortfolio, con, index_col=None)\n",
    "\n",
    "print(\"portfolio 건수 : [{}] \".format(len(portfolio)))"
   ]
  },
  {
   "cell_type": "code",
   "execution_count": 21,
   "metadata": {},
   "outputs": [],
   "source": [
    "# *****************************\n",
    "# 매도 종목 검색\n",
    "# *****************************\n",
    "stockSell = []\n",
    "if len(portfolio) != 0:\n",
    "    for stcokSellCode in portfolio:\n",
    "        sqlStockSell = \"SELECT stockCode FROM WHERE 1=1 \\\n",
    "                        AND date = '{}' \\\n",
    "                        AND stockCode = '{}' \\\n",
    "                        AND days5MovAvr < days20MovAvr\" \\\n",
    "                        .format(today, stockCode['stockCode'][0])\n",
    "        sellStockCode = pd.read_sql(sqlStockSell, con, index_col=None)['stockCode'][0]\n",
    "        \n",
    "        if len(sellStockCode) != 0:\n",
    "            stockSell.append(sellStockCode)\n",
    "            \n",
    "    print(\"stockSell 건수 : [{}]\".format(len(stockSell)))\n",
    "    "
   ]
  },
  {
   "cell_type": "code",
   "execution_count": null,
   "metadata": {},
   "outputs": [],
   "source": [
    "# *****************************\n",
    "# 매수 종목 선정\n",
    "# *****************************\n"
   ]
  },
  {
   "cell_type": "code",
   "execution_count": null,
   "metadata": {},
   "outputs": [],
   "source": [
    "# *****************************\n",
    "# (날짜 다음날 전환)\n",
    "# *****************************"
   ]
  },
  {
   "cell_type": "code",
   "execution_count": null,
   "metadata": {},
   "outputs": [],
   "source": [
    "# *****************************\n",
    "# 매도 처리\n",
    "# *****************************\n",
    "if len(stockSell) != 0:\n",
    "    for sellStockCode in stockSell:\n",
    "        sqlSell = \"select startPrice from origin_trade where 1=1 \\\n",
    "                    AND \"\n",
    "        \n",
    "    "
   ]
  },
  {
   "cell_type": "code",
   "execution_count": null,
   "metadata": {},
   "outputs": [],
   "source": [
    "# *****************************\n",
    "# 매수처리\n",
    "# *****************************\n"
   ]
  }
 ],
 "metadata": {
  "kernelspec": {
   "display_name": "Python 3",
   "language": "python",
   "name": "python3"
  },
  "language_info": {
   "codemirror_mode": {
    "name": "ipython",
    "version": 3
   },
   "file_extension": ".py",
   "mimetype": "text/x-python",
   "name": "python",
   "nbconvert_exporter": "python",
   "pygments_lexer": "ipython3",
   "version": "3.7.1"
  }
 },
 "nbformat": 4,
 "nbformat_minor": 2
}
