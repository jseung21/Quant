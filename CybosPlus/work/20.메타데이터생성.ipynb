{
 "cells": [
  {
   "cell_type": "code",
   "execution_count": 1,
   "metadata": {},
   "outputs": [],
   "source": [
    "import pandas as pd\n",
    "import numpy as np\n",
    "import matplotlib.pyplot as plt\n",
    "import glob\n",
    "import os\n",
    "import sqlite3\n",
    "\n",
    "%matplotlib notebook"
   ]
  },
  {
   "cell_type": "code",
   "execution_count": 2,
   "metadata": {},
   "outputs": [],
   "source": [
    "# *****************************\n",
    "# 파라미터 설정\n",
    "# *****************************\n",
    "# Directory\n",
    "WORKING_DIR = \"C:/Users/jseung21/Documents/CybosPlus\"\n",
    "# db file\n",
    "dbDir = 'C:/Users/jseung21/Documents/CybosPlus/sqlite3'"
   ]
  },
  {
   "cell_type": "code",
   "execution_count": 3,
   "metadata": {},
   "outputs": [],
   "source": [
    "# DBCP\n",
    "con = sqlite3.connect(dbDir+\"/MondayLab.db\")\n",
    "sqlite3.Connection\n",
    "cursor = con.cursor()"
   ]
  },
  {
   "cell_type": "code",
   "execution_count": 6,
   "metadata": {},
   "outputs": [],
   "source": [
    "# kospi200 Table 생성\n",
    "file1 = '/kospi200_origin.csv'\n",
    "data = pd.read_csv(WORKING_DIR+file1, engine='python', encoding = 'utf8')\n",
    "data.to_sql('kospi200', con, index=False, if_exists='append')\n",
    "cursor.execute('select count(*) from kospi200')\n",
    "print(cursor.fetchall())"
   ]
  },
  {
   "cell_type": "code",
   "execution_count": 5,
   "metadata": {},
   "outputs": [
    {
     "name": "stdout",
     "output_type": "stream",
     "text": [
      "[(4017,)]\n"
     ]
    }
   ],
   "source": [
    "# holiday_calendar Table 생성\n",
    "file1 = '/holiday2009to2019.csv'\n",
    "data = pd.read_csv(WORKING_DIR+file1, engine='python', encoding = 'utf8')\n",
    "data.to_sql('holiday_calendar', con, index=False, if_exists='append')\n",
    "cursor.execute('select count(*) from holiday_calendar')\n",
    "print(cursor.fetchall())"
   ]
  },
  {
   "cell_type": "code",
   "execution_count": 4,
   "metadata": {},
   "outputs": [],
   "source": [
    "# index 생성\n",
    "cursor.execute(\"create index idx_origin_trade on origin_trade(date,stockCode,days5MovAvr,days20MovAvr)\")\n",
    "cursor.execute(\"create index idx_holiday_calendar on holiday_calendar(date)\")\n",
    "cursor.execute(\"create index idx_kospi200 on kospi200(stockCode)\")\n",
    "con.commit()"
   ]
  },
  {
   "cell_type": "code",
   "execution_count": 6,
   "metadata": {},
   "outputs": [
    {
     "data": {
      "text/plain": [
       "<sqlite3.Cursor at 0x730f020>"
      ]
     },
     "execution_count": 6,
     "metadata": {},
     "output_type": "execute_result"
    }
   ],
   "source": [
    "# META Table 생성\n",
    "cursor.execute('DROP TABLE Portfolio')\n",
    "cursor.execute('DROP TABLE Trading')\n",
    "cursor.execute(\"CREATE TABLE Portfolio(seq int,trading int,stockCode text,dateBuy int,amountBuy int,priceBuy int,dateSell int,amountSell int,priceSell int,balance int)\")\n",
    "cursor.execute(\"CREATE TABLE Trading(date int,trading int,stockCode text,stockAmount int,stockPrice int)\")"
   ]
  },
  {
   "cell_type": "code",
   "execution_count": 8,
   "metadata": {},
   "outputs": [
    {
     "data": {
      "text/plain": [
       "<sqlite3.Cursor at 0x6eaf120>"
      ]
     },
     "execution_count": 8,
     "metadata": {},
     "output_type": "execute_result"
    }
   ],
   "source": [
    "cursor.execute('DROP TABLE Score')\n",
    "cursor.execute('CREATE TABLE Score (date int, totalInvest int, toltalCurrVal int, score real)')"
   ]
  },
  {
   "cell_type": "code",
   "execution_count": 5,
   "metadata": {},
   "outputs": [],
   "source": [
    "con.close()"
   ]
  },
  {
   "cell_type": "code",
   "execution_count": null,
   "metadata": {},
   "outputs": [],
   "source": []
  }
 ],
 "metadata": {
  "kernelspec": {
   "display_name": "Python 3",
   "language": "python",
   "name": "python3"
  },
  "language_info": {
   "codemirror_mode": {
    "name": "ipython",
    "version": 3
   },
   "file_extension": ".py",
   "mimetype": "text/x-python",
   "name": "python",
   "nbconvert_exporter": "python",
   "pygments_lexer": "ipython3",
   "version": "3.7.1"
  }
 },
 "nbformat": 4,
 "nbformat_minor": 2
}
