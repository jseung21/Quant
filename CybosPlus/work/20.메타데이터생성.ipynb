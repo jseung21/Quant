{
 "cells": [
  {
   "cell_type": "code",
   "execution_count": 1,
   "metadata": {},
   "outputs": [],
   "source": [
    "import pandas as pd\n",
    "import numpy as np\n",
    "import matplotlib.pyplot as plt\n",
    "import glob\n",
    "import os\n",
    "import sqlite3\n",
    "\n",
    "%matplotlib notebook"
   ]
  },
  {
   "cell_type": "code",
   "execution_count": 4,
   "metadata": {},
   "outputs": [],
   "source": [
    "# *****************************\n",
    "# 파라미터 설정\n",
    "# *****************************\n",
    "# Directory\n",
    "WORKING_DIR = \"C:/Users/jseung21/Documents/CybosPlus\"\n",
    "# db file\n",
    "dbDir = 'C:/Users/jseung21/Documents/CybosPlus/sqlite3'"
   ]
  },
  {
   "cell_type": "code",
   "execution_count": 5,
   "metadata": {},
   "outputs": [],
   "source": [
    "# DBCP\n",
    "con = sqlite3.connect(dbDir+\"/MondayLab_init.db\")\n",
    "sqlite3.Connection\n",
    "cursor = con.cursor()"
   ]
  },
  {
   "cell_type": "code",
   "execution_count": 6,
   "metadata": {
    "collapsed": true
   },
   "outputs": [],
   "source": [
    "cursor.execute('DROP TABLE if exists Kospi200')\n",
    "# kospi200 Table 생성\n",
    "file1 = '/kospi200_origin.csv'\n",
    "data = pd.read_csv(WORKING_DIR+file1, engine='python', encoding = 'utf8')\n",
    "data.to_sql('Kospi200', con, index=False, if_exists='append')\n",
    "cursor.execute('select count(*) from Kospi200')\n",
    "print(cursor.fetchall())"
   ]
  },
  {
   "cell_type": "code",
   "execution_count": 5,
   "metadata": {},
   "outputs": [
    {
     "name": "stdout",
     "output_type": "stream",
     "text": [
      "[(4017,)]\n"
     ]
    }
   ],
   "source": [
    "cursor.execute('DROP TABLE if exists Holiday_calendar')\n",
    "# holiday_calendar Table 생성\n",
    "file1 = '/holiday2009to2019.csv'\n",
    "data = pd.read_csv(WORKING_DIR+file1, engine='python', encoding = 'utf8')\n",
    "data.to_sql('Holiday_calendar', con, index=False, if_exists='append')\n",
    "cursor.execute('select count(*) from Holiday_calendar')\n",
    "print(cursor.fetchall())"
   ]
  },
  {
   "cell_type": "code",
   "execution_count": 6,
   "metadata": {},
   "outputs": [
    {
     "data": {
      "text/plain": [
       "<sqlite3.Cursor at 0x6cc7560>"
      ]
     },
     "execution_count": 6,
     "metadata": {},
     "output_type": "execute_result"
    }
   ],
   "source": [
    "# META Table 생성\n",
    "cursor.execute('DROP TABLE if exists Portfolio')\n",
    "cursor.execute('DROP TABLE if exists Trading')\n",
    "cursor.execute('DROP TABLE if exists Score')\n",
    "cursor.execute(\"CREATE TABLE Portfolio(seq int,trading int,stockCode text,dateBuy int,amountBuy int,priceBuy int,dateSell int,amountSell int,priceSell int,balance int)\")\n",
    "cursor.execute(\"CREATE TABLE Trading(date int,trading int,stockCode text,stockAmount int,stockPrice int)\")\n",
    "cursor.execute('CREATE TABLE Score (date int, totalInvest int, totalCurrVal int, score real)')"
   ]
  },
  {
   "cell_type": "code",
   "execution_count": 7,
   "metadata": {},
   "outputs": [],
   "source": [
    "# index 생성\n",
    "cursor.execute(\"drop index if exists idx_origin_trade0\")\n",
    "cursor.execute(\"drop index if exists idx_origin_trade\")\n",
    "cursor.execute(\"drop index if exists idx_origin_trade2\")\n",
    "cursor.execute(\"drop index if exists idx_holiday_calendar\")\n",
    "cursor.execute(\"drop index if exists idx_kospi200\")\n",
    "cursor.execute(\"create index idx_origin_trade0 on Origin_Trade(date,stockCode)\")\n",
    "cursor.execute(\"create index idx_origin_trade on Origin_Trade(date,stockCode,days5MovAvr,days20MovAvr)\")\n",
    "cursor.execute(\"create index idx_origin_trade2 on Origin_Trade(date,stockCode,days20MovAvr,days60MovAvr)\")\n",
    "cursor.execute(\"create index idx_holiday_calendar on Holiday_calendar(date)\")\n",
    "cursor.execute(\"create index idx_kospi200 on Kospi200(stockCode)\")\n",
    "con.commit()"
   ]
  },
  {
   "cell_type": "code",
   "execution_count": 8,
   "metadata": {},
   "outputs": [],
   "source": [
    "con.close()"
   ]
  },
  {
   "cell_type": "code",
   "execution_count": null,
   "metadata": {
    "collapsed": true
   },
   "outputs": [],
   "source": []
  }
 ],
 "metadata": {
  "kernelspec": {
   "display_name": "Python 3",
   "language": "python",
   "name": "python3"
  },
  "language_info": {
   "codemirror_mode": {
    "name": "ipython",
    "version": 3
   },
   "file_extension": ".py",
   "mimetype": "text/x-python",
   "name": "python",
   "nbconvert_exporter": "python",
   "pygments_lexer": "ipython3",
   "version": "3.7.1"
  }
 },
 "nbformat": 4,
 "nbformat_minor": 2
}
