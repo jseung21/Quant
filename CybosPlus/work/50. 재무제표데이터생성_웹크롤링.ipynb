{
 "cells": [
  {
   "cell_type": "code",
   "execution_count": 28,
   "metadata": {},
   "outputs": [],
   "source": [
    "# import json\n",
    "# import os\n",
    "# import re\n",
    "# import urllib.request\n",
    "\n",
    "# from bs4 import BeautifulSoup\n",
    "# from requests import get\n",
    "# from urllib.error import HTTPError\n",
    "# from urllib.parse import urlencode\n",
    "\n",
    "import pandas as pd\n",
    "from bs4 import BeautifulSoup\n",
    "from selenium import webdriver\n"
   ]
  },
  {
   "cell_type": "code",
   "execution_count": 29,
   "metadata": {},
   "outputs": [],
   "source": [
    "\n",
    "\n",
    "# Chrome의 경우 | 아까 받은 chromedriver의 위치를 지정해준다.\n",
    "driver = webdriver.Chrome('D:/000.work/100_MondayLab/temp/chromedriver_win32/chromedriver')\n",
    "driver.implicitly_wait(3)\n",
    "\n",
    "driver.get('https://login.itooza.com/login.htm?qurl64=aHR0cDovL3d3dy5pdG9vemEuY29tLw==')\n",
    "\n",
    "# PhantomJS의 경우 | 아까 받은 PhantomJS의 위치를 지정해준다.\n",
    "# driver = webdriver.PhantomJS('D:/000.work/100_MondayLab/temp/phantomjs-2.1.1-windows/bin/phantomjs')"
   ]
  },
  {
   "cell_type": "code",
   "execution_count": 30,
   "metadata": {},
   "outputs": [],
   "source": [
    "# 아이디/비밀번호를 입력해준다.\n",
    "driver.find_element_by_name('txtUserId').send_keys('jseung21')\n",
    "driver.find_element_by_name('txtPassword').send_keys('goddns21')\n",
    "\n",
    "# 로그인 버튼을 눌러주자.\n",
    "driver.find_element_by_css_selector('div.btn-login>input').click()"
   ]
  },
  {
   "cell_type": "code",
   "execution_count": 31,
   "metadata": {},
   "outputs": [],
   "source": [
    "# 페이지 이동\n",
    "code = '035420' # naver\n",
    "quarter = 'http://www.itooza.com/vclub/y10_page.php?cmp_cd={code}&mode=db&ss=10&sv=1&lsmode=1&lkmode=2&pmode=1&exmode=1&accmode=1'.format(code=code)\n",
    "driver.get(quarter)"
   ]
  },
  {
   "cell_type": "code",
   "execution_count": 32,
   "metadata": {},
   "outputs": [],
   "source": [
    "html = driver.page_source\n",
    "soup = BeautifulSoup(html, 'html.parser')"
   ]
  },
  {
   "cell_type": "code",
   "execution_count": 34,
   "metadata": {},
   "outputs": [
    {
     "data": {
      "text/plain": [
       "[<th nowrap=\"\" scope=\"row\" style=\"padding:0px 10px\">유동자산</th>,\n",
       " <th nowrap=\"\" scope=\"row\" style=\"font-weight:bold\"><span class=\"expander\" style=\"margin-left: -12px; padding-left: 12px\"></span>당좌자산</th>,\n",
       " <th nowrap=\"\" scope=\"row\" style=\"padding: 0px 10px 0px 14px;\">현금및현금성자산</th>,\n",
       " <th nowrap=\"\" scope=\"row\" style=\"padding: 0px 10px 0px 14px;\">단기금융자산</th>,\n",
       " <th nowrap=\"\" scope=\"row\" style=\"padding:0px 10px\">단기금융상품</th>]"
      ]
     },
     "execution_count": 34,
     "metadata": {},
     "output_type": "execute_result"
    }
   ],
   "source": [
    "# 재무항목\n",
    "financialColumns=soup.select('div.a01 > table > tbody > tr > th')\n",
    "financialColumns[:5]"
   ]
  },
  {
   "cell_type": "code",
   "execution_count": 35,
   "metadata": {},
   "outputs": [
    {
     "data": {
      "text/plain": [
       "[<th class=\"small t\" scope=\"col\" style=\"display:none\"></th>,\n",
       " <th class=\"small\" nowrap=\"\" scope=\"col\" style=\"padding:0px 6px\"><span class=\"en\">2018.12</span>월</th>,\n",
       " <th class=\"small\" nowrap=\"\" scope=\"col\" style=\"padding:0px 6px\"><span class=\"en\">2018.09</span>월</th>,\n",
       " <th class=\"small\" nowrap=\"\" scope=\"col\" style=\"padding:0px 6px\"><span class=\"en\">2018.06</span>월</th>,\n",
       " <th class=\"small\" nowrap=\"\" scope=\"col\" style=\"padding:0px 6px\"><span class=\"en\">2018.03</span>월</th>]"
      ]
     },
     "execution_count": 35,
     "metadata": {},
     "output_type": "execute_result"
    }
   ],
   "source": [
    "# get date\n",
    "# soup.find(\"table\", {\"id\":\"y10_tb_2\"}).find(\"th\")\n",
    "dates = soup.select('table[id=y10_tb_2] > thead > tr > th')\n",
    "dates[:5]"
   ]
  },
  {
   "cell_type": "code",
   "execution_count": 37,
   "metadata": {},
   "outputs": [
    {
     "data": {
      "text/plain": [
       "[<td>N/A</td>,\n",
       " <td>15,045</td>,\n",
       " <td>24,134</td>,\n",
       " <td>24,391</td>,\n",
       " <td>26,299</td>]"
      ]
     },
     "execution_count": 37,
     "metadata": {},
     "output_type": "execute_result"
    }
   ],
   "source": [
    "# get data\n",
    "data = soup.select('table[id=y10_tb_2] > tbody > tr > td')\n",
    "data[:5]"
   ]
  },
  {
   "cell_type": "code",
   "execution_count": 39,
   "metadata": {
    "scrolled": true
   },
   "outputs": [
    {
     "name": "stdout",
     "output_type": "stream",
     "text": [
      "\n",
      "2018.12월\n",
      "2018.09월\n",
      "2018.06월\n",
      "2018.03월\n",
      "2017.12월\n",
      "2017.09월\n",
      "2017.06월\n",
      "2017.03월\n",
      "2016.12월\n",
      "2016.09월\n",
      "2016.06월\n",
      "2016.03월\n",
      "2015.12월\n",
      "2015.09월\n",
      "2015.06월\n",
      "2015.03월\n",
      "2014.12월\n",
      "2014.09월\n",
      "2014.06월\n",
      "2014.03월\n",
      "2013.12월\n",
      "2013.09월\n",
      "2013.06월\n",
      "2013.03월\n",
      "2012.12월\n",
      "2012.09월\n",
      "2012.06월\n",
      "2012.03월\n",
      "2011.12월\n",
      "2011.09월\n",
      "2011.06월\n",
      "2011.03월\n",
      "2010.12월\n",
      "2010.09월\n",
      "2010.06월\n",
      "2010.03월\n",
      "2009.12월\n",
      "2009.09월\n",
      "2009.06월\n",
      "2009.03월\n",
      "2008.12월\n",
      "2008.09월\n",
      "2008.06월\n",
      "2008.03월\n",
      "2007.12월\n",
      "2007.09월\n",
      "2007.06월\n",
      "2007.03월\n",
      "2006.12월\n",
      "2006.09월\n",
      "2006.06월\n",
      "2006.03월\n",
      "2005.12월\n",
      "2005.09월\n",
      "2005.06월\n",
      "2005.03월\n",
      "2004.12월\n",
      "2004.09월\n",
      "2004.06월\n",
      "2004.03월\n",
      "2003.12월\n",
      "2003.09월\n",
      "2003.06월\n",
      "2003.03월\n",
      "2002.12월\n",
      "2002.09월\n",
      "2002.06월\n",
      "2002.03월\n",
      "2001.12월\n",
      "2001.09월\n",
      "2001.06월\n",
      "2001.03월\n",
      "2000.12월\n",
      "2000.09월\n",
      "2000.06월\n",
      "2000.03월\n",
      "1999.12월\n",
      "1999.09월\n",
      "1999.06월\n"
     ]
    }
   ],
   "source": [
    "for n in dates:\n",
    "    print(n.text)"
   ]
  },
  {
   "cell_type": "code",
   "execution_count": null,
   "metadata": {},
   "outputs": [],
   "source": []
  }
 ],
 "metadata": {
  "kernelspec": {
   "display_name": "Python 3",
   "language": "python",
   "name": "python3"
  },
  "language_info": {
   "codemirror_mode": {
    "name": "ipython",
    "version": 3
   },
   "file_extension": ".py",
   "mimetype": "text/x-python",
   "name": "python",
   "nbconvert_exporter": "python",
   "pygments_lexer": "ipython3",
   "version": "3.6.5"
  }
 },
 "nbformat": 4,
 "nbformat_minor": 2
}
