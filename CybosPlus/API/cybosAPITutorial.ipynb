{
 "cells": [
  {
   "cell_type": "code",
   "execution_count": 2,
   "metadata": {},
   "outputs": [
    {
     "name": "stdout",
     "output_type": "stream",
     "text": [
      "1\n"
     ]
    }
   ],
   "source": [
    "import win32com.client\n",
    "instCpCybos = win32com.client.Dispatch(\"CpUtil.CpCybos\")\n",
    "print(instCpCybos.IsConnect)"
   ]
  },
  {
   "cell_type": "code",
   "execution_count": 3,
   "metadata": {},
   "outputs": [
    {
     "name": "stdout",
     "output_type": "stream",
     "text": [
      "3129\n"
     ]
    }
   ],
   "source": [
    "instCpStockCode = win32com.client.Dispatch(\"CpUtil.CpStockCode\")\n",
    "print(instCpStockCode.GetCount())"
   ]
  },
  {
   "cell_type": "code",
   "execution_count": 4,
   "metadata": {},
   "outputs": [
    {
     "name": "stdout",
     "output_type": "stream",
     "text": [
      "동화약품\n"
     ]
    }
   ],
   "source": [
    "instCpStockCode = win32com.client.Dispatch(\"CpUtil.CpStockCode\")\n",
    "print(instCpStockCode.GetData(1, 0))"
   ]
  },
  {
   "cell_type": "code",
   "execution_count": 5,
   "metadata": {},
   "outputs": [
    {
     "name": "stdout",
     "output_type": "stream",
     "text": [
      "A000020\n"
     ]
    }
   ],
   "source": [
    "instCpStockCode = win32com.client.Dispatch(\"CpUtil.CpStockCode\")\n",
    "print(instCpStockCode.GetData(0, 0))\n"
   ]
  },
  {
   "cell_type": "code",
   "execution_count": 6,
   "metadata": {},
   "outputs": [
    {
     "name": "stdout",
     "output_type": "stream",
     "text": [
      "동화약품\n",
      "우리은행\n",
      "KR모터스\n",
      "경방\n",
      "메리츠화재\n",
      "삼양홀딩스\n",
      "삼양홀딩스우\n",
      "하이트진로\n",
      "하이트진로2우B\n",
      "유한양행\n"
     ]
    }
   ],
   "source": [
    "instCpStockCode = win32com.client.Dispatch(\"CpUtil.CpStockCode\")\n",
    "for i in range(0, 10):\n",
    "    print(instCpStockCode.GetData(1,i))"
   ]
  },
  {
   "cell_type": "code",
   "execution_count": 8,
   "metadata": {},
   "outputs": [
    {
     "name": "stdout",
     "output_type": "stream",
     "text": [
      "A035420\n",
      "NAVER\n",
      "890\n"
     ]
    }
   ],
   "source": [
    "instCpStockCode = win32com.client.Dispatch(\"CpUtil.CpStockCode\")\n",
    "stockNum = instCpStockCode.GetCount()\n",
    "\n",
    "for i in range(stockNum):\n",
    "    if instCpStockCode.GetData(1, i) == 'NAVER':\n",
    "        print(instCpStockCode.GetData(0,i))\n",
    "        print(instCpStockCode.GetData(1,i))\n",
    "        print(i)"
   ]
  },
  {
   "cell_type": "code",
   "execution_count": 12,
   "metadata": {},
   "outputs": [],
   "source": [
    "instCpCodeMgr = win32com.client.Dispatch(\"CpUtil.CpCodeMgr\")\n",
    "codeList = instCpCodeMgr.GetStockListByMarket(1)\n",
    "\n",
    "kospi = {}\n",
    "for code in codeList:\n",
    "    name = instCpCodeMgr.CodeToName(code)\n",
    "    kospi[code] = name\n",
    "\n",
    "f = open('kospi.csv', 'w')\n",
    "for key, value in kospi.items():\n",
    "    f.write(\"%s,%s\\n\" % (key, value))\n",
    "f.close()"
   ]
  },
  {
   "cell_type": "code",
   "execution_count": 14,
   "metadata": {},
   "outputs": [
    {
     "name": "stdout",
     "output_type": "stream",
     "text": [
      "20190125 11700 11750 11550 11750 124735 \n",
      "20190124 11500 11850 11450 11700 431242 \n",
      "20190123 11250 11400 11200 11400 62752 \n",
      "20190122 11300 11400 11150 11300 112905 \n",
      "20190121 11550 11600 11350 11350 89363 \n",
      "20190118 11350 11500 11300 11500 137670 \n",
      "20190117 11500 11550 11300 11350 96885 \n",
      "20190116 11350 11500 11350 11450 152664 \n",
      "20190115 11000 11400 11000 11300 183098 \n",
      "20190114 11050 11150 10950 11050 134002 \n"
     ]
    }
   ],
   "source": [
    "# Create object\n",
    "instStockChart = win32com.client.Dispatch(\"CpSysDib.StockChart\")\n",
    "\n",
    "# SetInputValue\n",
    "instStockChart.SetInputValue(0, \"A003540\")\n",
    "instStockChart.SetInputValue(1, ord('2'))\n",
    "instStockChart.SetInputValue(4, 10)\n",
    "instStockChart.SetInputValue(5, (0, 2, 3, 4, 5, 8))\n",
    "instStockChart.SetInputValue(6, ord('D'))\n",
    "instStockChart.SetInputValue(9, ord('1'))\n",
    "\n",
    "# BlockRequest\n",
    "instStockChart.BlockRequest()\n",
    "\n",
    "# GetHeaderValue\n",
    "numData = instStockChart.GetHeaderValue(3)\n",
    "numField = instStockChart.GetHeaderValue(1)\n",
    "\n",
    "# GetDataValue\n",
    "for i in range(numData):\n",
    "    for j in range(numField):\n",
    "        print(instStockChart.GetDataValue(j, i), end=\" \")\n",
    "    print(\"\")"
   ]
  },
  {
   "cell_type": "code",
   "execution_count": 15,
   "metadata": {},
   "outputs": [
    {
     "name": "stdout",
     "output_type": "stream",
     "text": [
      "현재가:  11750\n",
      "PER:  2.9800000190734863\n",
      "EPS:  3949\n",
      "최근분기년월:  201809\n"
     ]
    }
   ],
   "source": [
    "# Create Object\n",
    "instMarketEye = win32com.client.Dispatch(\"CpSysDib.MarketEye\")\n",
    "\n",
    "# SetInputValue\n",
    "instMarketEye.SetInputValue(0, (4, 67, 70, 111))\n",
    "instMarketEye.SetInputValue(1, 'A003540')\n",
    "\n",
    "# BlockRequest\n",
    "instMarketEye.BlockRequest()\n",
    "\n",
    "# GetData\n",
    "print(\"현재가: \", instMarketEye.GetDataValue(0, 0))\n",
    "print(\"PER: \", instMarketEye.GetDataValue(1, 0))\n",
    "print(\"EPS: \", instMarketEye.GetDataValue(2, 0))\n",
    "print(\"최근분기년월: \", instMarketEye.GetDataValue(3, 0))"
   ]
  },
  {
   "cell_type": "code",
   "execution_count": 18,
   "metadata": {},
   "outputs": [],
   "source": [
    "def CheckVolumn(instStockChart, code):\n",
    "    # SetInputValue\n",
    "    instStockChart.SetInputValue(0, code)\n",
    "    instStockChart.SetInputValue(1, ord('2'))\n",
    "    instStockChart.SetInputValue(4, 60)\n",
    "    instStockChart.SetInputValue(5, 8)\n",
    "    instStockChart.SetInputValue(6, ord('D'))\n",
    "    instStockChart.SetInputValue(9, ord('1'))\n",
    "\n",
    "    # BlockRequest\n",
    "    instStockChart.BlockRequest()\n",
    "\n",
    "    # GetData\n",
    "    volumes = []\n",
    "    numData = instStockChart.GetHeaderValue(3)\n",
    "    for i in range(numData):\n",
    "        volume = instStockChart.GetDataValue(0, i)\n",
    "        volumes.append(volume)\n",
    "\n",
    "    # Calculate average volume\n",
    "    averageVolume = (sum(volumes) - volumes[0]) / (len(volumes) -1)\n",
    "\n",
    "    if(volumes[0] > averageVolume * 10):\n",
    "        return 1\n",
    "    else:\n",
    "        return 0"
   ]
  },
  {
   "cell_type": "code",
   "execution_count": 21,
   "metadata": {},
   "outputs": [
    {
     "ename": "KeyboardInterrupt",
     "evalue": "",
     "output_type": "error",
     "traceback": [
      "\u001b[1;31m---------------------------------------------------------------------------\u001b[0m",
      "\u001b[1;31mKeyboardInterrupt\u001b[0m                         Traceback (most recent call last)",
      "\u001b[1;32m<ipython-input-21-ce4908fcdaf3>\u001b[0m in \u001b[0;36m<module>\u001b[1;34m\u001b[0m\n\u001b[0;32m     12\u001b[0m         \u001b[0mbuyList\u001b[0m\u001b[1;33m.\u001b[0m\u001b[0mappend\u001b[0m\u001b[1;33m(\u001b[0m\u001b[0mcode\u001b[0m\u001b[1;33m)\u001b[0m\u001b[1;33m\u001b[0m\u001b[1;33m\u001b[0m\u001b[0m\n\u001b[0;32m     13\u001b[0m         \u001b[0mprint\u001b[0m\u001b[1;33m(\u001b[0m\u001b[0mcode\u001b[0m\u001b[1;33m)\u001b[0m\u001b[1;33m\u001b[0m\u001b[1;33m\u001b[0m\u001b[0m\n\u001b[1;32m---> 14\u001b[1;33m     \u001b[0mtime\u001b[0m\u001b[1;33m.\u001b[0m\u001b[0msleep\u001b[0m\u001b[1;33m(\u001b[0m\u001b[1;36m1\u001b[0m\u001b[1;33m)\u001b[0m\u001b[1;33m\u001b[0m\u001b[1;33m\u001b[0m\u001b[0m\n\u001b[0m",
      "\u001b[1;31mKeyboardInterrupt\u001b[0m: "
     ]
    }
   ],
   "source": [
    "instStockChart = win32com.client.Dispatch(\"CpSysDib.StockChart\")\n",
    "instCpCodeMgr = win32com.client.Dispatch(\"CpUtil.CpCodeMgr\")\n",
    "codeList = instCpCodeMgr.GetStockListByMarket(1)\n",
    "buyList = []\n",
    "\n",
    "import time\n",
    "\n",
    "# 중간 코드 생략 \n",
    "\n",
    "for code in codeList:\n",
    "    if CheckVolumn(instStockChart, code) == 1:\n",
    "        buyList.append(code)\n",
    "        print(code)\n",
    "    time.sleep(1)"
   ]
  },
  {
   "cell_type": "code",
   "execution_count": 22,
   "metadata": {},
   "outputs": [
    {
     "name": "stdout",
     "output_type": "stream",
     "text": [
      "001 종합주가지수\n",
      "002 대형(시가총액)\n",
      "003 중형(시가총액)\n",
      "004 소형(시가총액)\n",
      "005 음식료품\n",
      "006 섬유,의복\n",
      "007 종이,목재\n",
      "008 화학\n",
      "009 의약품\n",
      "010 비금속광물\n",
      "011 철강,금속\n",
      "012 기계\n",
      "013 전기,전자\n",
      "014 의료정밀\n",
      "015 운송장비\n",
      "016 유통업\n",
      "017 전기가스업\n",
      "018 건설업\n",
      "019 운수창고\n",
      "020 통신업\n",
      "021 금융업\n",
      "022 은행\n",
      "024 증권\n",
      "025 보험\n",
      "026 서비스업\n",
      "027 제조업\n",
      "130 KOSPI200 경기방어소비재\n",
      "131 KOSPI200 중소형주지수\n",
      "132 KOSPI200 산업재\n",
      "133 KOSPI200 헬스케어\n",
      "141 KOSPI200 건설\n",
      "142 KOSPI200 중공업\n",
      "143 KOSPI200 철강/소재\n",
      "144 KOSPI200 에너지/화학\n",
      "145 KOSPI200 정보기술\n",
      "146 KOSPI200 금융\n",
      "147 KOSPI200 생활소비재\n",
      "148 KOSPI200 경기소비재\n",
      "149 코스피 200 에너지화학 레버리지지수\n",
      "150 미국달러선물 레버리지지수\n",
      "151 미국달러선물지수\n",
      "152 미국달러선물인버스지수\n",
      "153 코스피 200 커버드콜 5% OTM\n",
      "154 코스피 200 프로텍티브풋 OTM 5%\n",
      "155 KOSPI200 동일가중지수\n",
      "156 KOSPI100 동일가중지수\n",
      "157 KOSPI50 동일가중지수\n",
      "165 코스피 200 정보기술 레버리지지수\n",
      "166 코스피 200 금융 레버리지지수\n",
      "167 코스피 200 경기소비재 레버리지지수\n",
      "170 KTOP 30\n",
      "177 KOSPI200레버리지지수\n",
      "178 F-KOSPI200인버스지수\n",
      "179 KOSPI200선물지수\n",
      "180 KOSPI200지수\n",
      "181 KOSPI100지수\n",
      "182 KOSPI50지수\n",
      "184 코스피 200 TR\n",
      "185 코스피 200 NTR\n",
      "186 KRX-IHS Markit 코스피 200 예측 고배당 30\n",
      "187 KRX-IHS Markit 코스피 200 예측 배당성장 30\n",
      "190 코스피 200 고배당지수\n",
      "191 코스피 200 저변동성지수\n",
      "192 코스피 고배당 50지수\n",
      "193 코스피 배당성장 50지수\n",
      "194 코스피 우선주 지수\n",
      "195 코스피 200 가치저변동성 지수\n",
      "196 코스피 200 건설 레버리지지수\n",
      "197 코스피 200 중공업 레버리지지수\n",
      "198 코스피 200 헬스케어 레버리지지수\n",
      "501 국채선물지수\n",
      "502 국채선물인버스지수\n",
      "503 국채선물10년물지수\n",
      "504 국채선물10년물인버스지수\n",
      "505 국채 3-10년 선물지수\n",
      "506 국채 3-10년 선물레버리지지수\n",
      "507 국채 3-10년 선물인버스지수\n",
      "508 국채 3-10년 선물인버스-2X지수\n",
      "509 10년 국채선물지수 레버리지지수\n",
      "510 10년 국채선물 인버스 레버리지지수\n",
      "511 주식골드지수\n",
      "512 주식미국채DAE지수\n",
      "513 주식국채혼합(주식형)지수\n",
      "514 주식국채혼합(채권형)지수\n",
      "527 코스피 200 현선물 목표변동성 24% 지수\n",
      "530 MSCI Korea Index\n",
      "532 코스피 200 고배당 커버드콜 ATM\n",
      "541 코스피200리스크컨트롤6%지수\n",
      "542 코스피200리스크컨트롤8%지수\n",
      "543 코스피200리스크컨트롤10%지수\n",
      "544 코스피200리스크컨트롤12%지수\n",
      "545 KOSPI200 변동성지수\n",
      "546 코스피 200 DAE지수\n",
      "548 K200 USD 선물 바이셀지수\n",
      "549 USD K200 선물 바이셀지수\n",
      "550 코스피 커버드콜 5% OTM 선물지수\n",
      "551 코스피 커버드풋 5% OTM 선물지수\n",
      "552 코스피 200 선물 인버스-2X지수\n",
      "553 코스피 200 선물 인버스-3X지수\n",
      "554 미국달러선물 인버스-2X지수\n",
      "555 미국달러선물 인버스-3X지수\n",
      "560 엔선물지수\n",
      "561 엔선물 레버리지 지수\n",
      "562 엔선물 인버스지수\n",
      "563 엔선물 인버스-2X지수\n",
      "564 엔선물 인버스-3X지수\n",
      "565 유로선물지수\n",
      "566 유로선물 레버리지 지수\n",
      "567 유로선물 인버스지수\n",
      "568 유로선물 인버스-2X지수\n",
      "569 유로선물 인버스-3X지수\n",
      "570 코스피 200 선물 레버리지 지수\n",
      "576 미니 코스피 200 선물지수\n",
      "577 미니 코스피 200 선물 레버리지지수\n",
      "578 미니 코스피 200 선물 인버스지수\n",
      "579 미니 코스피 200 선물 인버스-2X지수\n",
      "583 코스피 200 밸류 가중 지수\n",
      "584 코스피 200 퀄리티 가중 지수\n",
      "585 코스피 200 모멘텀 가중 지수\n",
      "586 코스피 200 로우볼 가중 지수\n",
      "587 코스피 200 커버드콜 ATM\n",
      "588 코스피 200 현선물레버리지 1.5X 지수\n",
      "589 코스피 200 커버드콜 ATM 레버리지\n",
      "590 코스피 200 미국채 혼합지수\n"
     ]
    }
   ],
   "source": [
    "instCpCodeMgr = win32com.client.Dispatch(\"CpUtil.CpCodeMgr\")\n",
    "industryCodeList = instCpCodeMgr.GetIndustryList()\n",
    "\n",
    "for industryCode in industryCodeList:\n",
    "    print(industryCode, instCpCodeMgr.GetIndustryName(industryCode))"
   ]
  },
  {
   "cell_type": "code",
   "execution_count": null,
   "metadata": {},
   "outputs": [],
   "source": []
  }
 ],
 "metadata": {
  "kernelspec": {
   "display_name": "Python 3",
   "language": "python",
   "name": "python3"
  },
  "language_info": {
   "codemirror_mode": {
    "name": "ipython",
    "version": 3
   },
   "file_extension": ".py",
   "mimetype": "text/x-python",
   "name": "python",
   "nbconvert_exporter": "python",
   "pygments_lexer": "ipython3",
   "version": "3.7.1"
  }
 },
 "nbformat": 4,
 "nbformat_minor": 2
}
